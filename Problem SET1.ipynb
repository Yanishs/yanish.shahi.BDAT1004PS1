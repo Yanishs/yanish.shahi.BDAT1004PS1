{
 "cells": [
  {
   "cell_type": "markdown",
   "id": "a47f761a",
   "metadata": {},
   "source": [
    "# Question 1\n",
    "**What data type is each of the following (evaluate where necessary)?**\n",
    "\n",
    "1. 5\n",
    "2. 5.0\n",
    "3. 5 > 1\n",
    "4. '5'\n",
    "5. 5 * 2\n",
    "6. '5' * 2\n",
    "7. '5' + '2'\n",
    "8. 5 / 2\n",
    "9. 5 % 2\n",
    "10. {5, 2, 1}\n",
    "11. 5 == 3\n",
    "12. Pi (the number)"
   ]
  },
  {
   "cell_type": "markdown",
   "id": "bd019754",
   "metadata": {},
   "source": [
    "1. 5 is integer\n",
    "2. 5.0 is float\n",
    "3. boolean\n",
    "4. string\n",
    "5. integer\n",
    "6. string\n",
    "7. string\n",
    "8. float\n",
    "9. integer\n",
    "10. dictionary\n",
    "11. boolean\n",
    "12. float"
   ]
  },
  {
   "cell_type": "markdown",
   "id": "285d55d7",
   "metadata": {},
   "source": [
    "****************************************************************************************************"
   ]
  },
  {
   "cell_type": "markdown",
   "id": "50522582",
   "metadata": {},
   "source": [
    "****************************************************************************************************"
   ]
  },
  {
   "cell_type": "markdown",
   "id": "87b9e637",
   "metadata": {},
   "source": [
    "# Question 2\n",
    "Write (and evaluate) python expressions that answer these questions:\n",
    "\n",
    "\n"
   ]
  },
  {
   "cell_type": "markdown",
   "id": "1b667b1c",
   "metadata": {},
   "source": [
    "##### How many letters are there in 'Supercalifragilisticexpialidocious'?"
   ]
  },
  {
   "cell_type": "code",
   "execution_count": 18,
   "id": "23dec329",
   "metadata": {},
   "outputs": [
    {
     "data": {
      "text/plain": [
       "34"
      ]
     },
     "execution_count": 18,
     "metadata": {},
     "output_type": "execute_result"
    }
   ],
   "source": [
    "len('Supercalifragilisticexpialidocious')\n",
    "#len is a inbuilt function of python that returns number of character in a string"
   ]
  },
  {
   "cell_type": "markdown",
   "id": "aecc58a5",
   "metadata": {},
   "source": [
    "****************************************************************************************************"
   ]
  },
  {
   "cell_type": "markdown",
   "id": "f355ca14",
   "metadata": {},
   "source": [
    "#### Does 'Supercalifragilisticexpialidocious' contain 'ice' as a substring?"
   ]
  },
  {
   "cell_type": "code",
   "execution_count": 19,
   "id": "2750244f",
   "metadata": {},
   "outputs": [
    {
     "name": "stdout",
     "output_type": "stream",
     "text": [
      "yes its there\n"
     ]
    }
   ],
   "source": [
    "if 'ice' in 'Supercalifragilisticexpialidocious': #checks whether ice is in the string\n",
    "    print(\"yes its there\")\n",
    "else:\n",
    "    print(\"No sorry\")"
   ]
  },
  {
   "cell_type": "markdown",
   "id": "ec74c634",
   "metadata": {},
   "source": [
    "****************************************************************************************************"
   ]
  },
  {
   "cell_type": "markdown",
   "id": "1a89ae4a",
   "metadata": {},
   "source": [
    "#### Which of the following words is the longest:\n",
    "Supercalifragilisticexpialidocious, Honorificabilitudinitatibus, or\n",
    "Bababadalgharaghtakamminarronnkonn?"
   ]
  },
  {
   "cell_type": "code",
   "execution_count": 20,
   "id": "5bf2e652",
   "metadata": {},
   "outputs": [
    {
     "data": {
      "text/plain": [
       "34"
      ]
     },
     "execution_count": 20,
     "metadata": {},
     "output_type": "execute_result"
    }
   ],
   "source": [
    "len('Supercalifragilisticexpialidocious')"
   ]
  },
  {
   "cell_type": "code",
   "execution_count": 21,
   "id": "a2b7cbde",
   "metadata": {},
   "outputs": [
    {
     "data": {
      "text/plain": [
       "27"
      ]
     },
     "execution_count": 21,
     "metadata": {},
     "output_type": "execute_result"
    }
   ],
   "source": [
    "len('Honorificabilitudinitatibus')"
   ]
  },
  {
   "cell_type": "code",
   "execution_count": 22,
   "id": "a491fd64",
   "metadata": {},
   "outputs": [
    {
     "data": {
      "text/plain": [
       "34"
      ]
     },
     "execution_count": 22,
     "metadata": {},
     "output_type": "execute_result"
    }
   ],
   "source": [
    "len(\"Bababadalgharaghtakamminarronnkonn\")"
   ]
  },
  {
   "cell_type": "markdown",
   "id": "94554d25",
   "metadata": {},
   "source": [
    "###### 'Supercalifragilisticexpialidocious' and \"Bababadalgharaghtakamminarronnkonn\" are longest"
   ]
  },
  {
   "cell_type": "markdown",
   "id": "c666637d",
   "metadata": {},
   "source": [
    "****************************************************************************************************"
   ]
  },
  {
   "cell_type": "markdown",
   "id": "9dff649b",
   "metadata": {},
   "source": [
    "#### Which composer comes first in the dictionary: 'Berlioz', 'Borodin', 'Brian', 'Bartok', 'Bellini', 'Buxtehude', 'Bernstein'. Which one comes last?"
   ]
  },
  {
   "cell_type": "code",
   "execution_count": 23,
   "id": "f8f10775",
   "metadata": {},
   "outputs": [],
   "source": [
    "a = ['Berlioz', 'Borodin', 'Brian', 'Bartok', 'Bellini', 'Buxtehude', 'Bernstein']\n",
    "a.sort() #sorts the entire list in ascending order"
   ]
  },
  {
   "cell_type": "code",
   "execution_count": 24,
   "id": "f97ffb89",
   "metadata": {},
   "outputs": [
    {
     "data": {
      "text/plain": [
       "['Bartok', 'Bellini', 'Berlioz', 'Bernstein', 'Borodin', 'Brian', 'Buxtehude']"
      ]
     },
     "execution_count": 24,
     "metadata": {},
     "output_type": "execute_result"
    }
   ],
   "source": [
    "a"
   ]
  },
  {
   "cell_type": "markdown",
   "id": "0dcee822",
   "metadata": {},
   "source": [
    "#### Bartok comes first in the dictionary"
   ]
  },
  {
   "cell_type": "markdown",
   "id": "75e51727",
   "metadata": {},
   "source": [
    "*************************"
   ]
  },
  {
   "cell_type": "markdown",
   "id": "3adab349",
   "metadata": {},
   "source": [
    "****************************************************************************************************"
   ]
  },
  {
   "cell_type": "markdown",
   "id": "450962d1",
   "metadata": {},
   "source": [
    "# Question 3\n",
    "**Implement function triangleArea(a,b,c) that takes as input the lengths of the 3\n",
    "sides of a triangle and returns the area of the triangle. By Heron's formula, the area\n",
    "of a triangle with side lengths a, b, and c is $\\sqrt{s(s - a)(s - b)(s - c)}$ , where s = (a + b + c)/2**\n",
    "\n",
    ">>> triangleArea(2,2,2)\n",
    "1.7320508075688772\n"
   ]
  },
  {
   "cell_type": "code",
   "execution_count": 48,
   "id": "77809d5f",
   "metadata": {},
   "outputs": [],
   "source": [
    "import math #importing math library for mathematical calculation\n",
    "def triangleArea(a,b,c): #taking sides of triangle as arguments\n",
    "    s = (a+b+c)/2\n",
    "    print(math.sqrt(s*(s - a)*(s - b)*(s - c)))#inbuilt sqrt function in math librarry\n",
    "    \n",
    "    \n",
    "    "
   ]
  },
  {
   "cell_type": "code",
   "execution_count": 49,
   "id": "2674793c",
   "metadata": {},
   "outputs": [
    {
     "name": "stdout",
     "output_type": "stream",
     "text": [
      "1.7320508075688772\n"
     ]
    }
   ],
   "source": [
    "triangleArea(2,2,2)"
   ]
  },
  {
   "cell_type": "markdown",
   "id": "a99e9733",
   "metadata": {},
   "source": [
    "****************************************************************************************************"
   ]
  },
  {
   "cell_type": "markdown",
   "id": "34c7327e",
   "metadata": {},
   "source": [
    "*******************************"
   ]
  },
  {
   "cell_type": "markdown",
   "id": "4d0cc88e",
   "metadata": {},
   "source": [
    "# Question 4\n",
    "Write a program in python to separate odd and even integers in separate arrays. Go to the editor\n",
    "Test Data :\n",
    "<br> Input the number of elements to be stored in the array :5\n",
    "<br> Input 5 elements in the array :\n",
    "<br> element - 0 : 25\n",
    "<br> element - 1 : 47\n",
    "<br> element - 2 : 42\n",
    "<br> element - 3 : 56\n",
    "<br> element - 4 : 32\n",
    "<br> Expected Output:\n",
    "<br> The Even elements are:\n",
    "<br> 42 56 32\n",
    "<br> The Odd elements are :\n",
    "<br> 25 47"
   ]
  },
  {
   "cell_type": "code",
   "execution_count": 52,
   "id": "c88bf0a9",
   "metadata": {},
   "outputs": [],
   "source": [
    "elements = [25,47,42,56,32]\n",
    "even = []\n",
    "odd = []\n",
    "for e in elements:\n",
    "    if e%2 == 0:\n",
    "        even.append(e)\n",
    "    else:\n",
    "        odd.append(e)\n",
    "        \n",
    "    "
   ]
  },
  {
   "cell_type": "code",
   "execution_count": 56,
   "id": "79e0077c",
   "metadata": {},
   "outputs": [
    {
     "name": "stdout",
     "output_type": "stream",
     "text": [
      "The even elements are [42, 56, 32] \n"
     ]
    }
   ],
   "source": [
    "print(\"The even elements are {} \".format(even))"
   ]
  },
  {
   "cell_type": "code",
   "execution_count": 58,
   "id": "b731755a",
   "metadata": {},
   "outputs": [
    {
     "name": "stdout",
     "output_type": "stream",
     "text": [
      "The odd elements are [25, 47] \n"
     ]
    }
   ],
   "source": [
    "print(\"The odd elements are {} \".format(odd))"
   ]
  },
  {
   "cell_type": "markdown",
   "id": "53254be5",
   "metadata": {},
   "source": [
    "********************\n"
   ]
  },
  {
   "cell_type": "markdown",
   "id": "c2efdcd9",
   "metadata": {},
   "source": [
    "********************\n"
   ]
  },
  {
   "cell_type": "markdown",
   "id": "7706dfdb",
   "metadata": {},
   "source": [
    "# Question 5a. \n",
    "\n",
    "Write a function inside(x,y,x1,y1,x2,y2) that returns True or False depending on whether the point (x,y) lies in the rectangle with lower leftcorner (x1,y1) and upper right corner (x2,y2).\n",
    ">>> inside(1,1,0,0,2,3)\n",
    "True\n",
    ">>> inside(-1,-1,0,0,2,3)\n",
    "False"
   ]
  },
  {
   "cell_type": "code",
   "execution_count": 13,
   "id": "68901abd",
   "metadata": {},
   "outputs": [],
   "source": [
    "def inside(x, y, x1, y1, x2, y2):\n",
    "   # check_x = x2 - x1\n",
    "   # check_y = y2-y1\n",
    "   # print(check_x)\n",
    "   # print(check_y)\n",
    "    \n",
    "    if x1< x < x2 and y1 < y < y2:\n",
    "        return True\n",
    "    \n",
    "    else:\n",
    "        return False\n",
    "\n",
    "\n"
   ]
  },
  {
   "cell_type": "code",
   "execution_count": 14,
   "id": "fb946e0b",
   "metadata": {},
   "outputs": [
    {
     "data": {
      "text/plain": [
       "True"
      ]
     },
     "execution_count": 14,
     "metadata": {},
     "output_type": "execute_result"
    }
   ],
   "source": [
    "inside(1,1,0,0,2,3)"
   ]
  },
  {
   "cell_type": "code",
   "execution_count": 15,
   "id": "2ae2e1d9",
   "metadata": {},
   "outputs": [
    {
     "data": {
      "text/plain": [
       "False"
      ]
     },
     "execution_count": 15,
     "metadata": {},
     "output_type": "execute_result"
    }
   ],
   "source": [
    "inside(-1,-1,0,0,2,3)"
   ]
  },
  {
   "cell_type": "markdown",
   "id": "1a1dad36",
   "metadata": {},
   "source": [
    "# Question 6\n",
    "16. You can turn a word into pig-Latin using the following two rules (simplified):\n",
    " - If the word starts with a consonant, move that letter to the end and append\n",
    "'ay'. For example, 'happy' becomes 'appyhay' and 'pencil' becomes 'encilpay'.\n",
    " - If the word starts with a vowel, simply append 'way' to the end of the word.\n",
    "For example, 'enter' becomes 'enterway' and 'other' becomes 'otherway'   - For our purposes, there are 5 vowels: a, e, i, o, u (so we count y as a consonant).\n",
    "Write a function pig() that takes a word (i.e., a string) as input and returns its pig-\n",
    "Latin form. Your function should still work if the input word contains upper case\n",
    "characters. Your output should always be lower case however."
   ]
  },
  {
   "cell_type": "code",
   "execution_count": 32,
   "id": "d93e3592",
   "metadata": {},
   "outputs": [],
   "source": [
    "def pig(word):\n",
    "\n",
    "    vowel_checker = ['a','e','i','o','u']\n",
    "\n",
    "    lcword = word.lower()\n",
    "    \n",
    "\n",
    "    if lcword[0] in vowel_checker:\n",
    "        print(lcword+'way')\n",
    "\n",
    "    else:\n",
    "        print(lcword[1:]+lcword[0]+'ay')"
   ]
  },
  {
   "cell_type": "code",
   "execution_count": 33,
   "id": "ee96be3a",
   "metadata": {},
   "outputs": [
    {
     "name": "stdout",
     "output_type": "stream",
     "text": [
      "appyhay\n"
     ]
    }
   ],
   "source": [
    "pig(\"HAPPY\")"
   ]
  },
  {
   "cell_type": "code",
   "execution_count": 35,
   "id": "ae5df72d",
   "metadata": {},
   "outputs": [
    {
     "name": "stdout",
     "output_type": "stream",
     "text": [
      "encilpay\n"
     ]
    }
   ],
   "source": [
    "pig(\"PENCIL\")"
   ]
  },
  {
   "cell_type": "code",
   "execution_count": 36,
   "id": "a6a8768b",
   "metadata": {},
   "outputs": [
    {
     "name": "stdout",
     "output_type": "stream",
     "text": [
      "enterway\n"
     ]
    }
   ],
   "source": [
    "pig(\"enter\")"
   ]
  },
  {
   "cell_type": "code",
   "execution_count": 37,
   "id": "36325594",
   "metadata": {},
   "outputs": [
    {
     "name": "stdout",
     "output_type": "stream",
     "text": [
      "otherway\n"
     ]
    }
   ],
   "source": [
    "pig(\"other\")"
   ]
  },
  {
   "cell_type": "markdown",
   "id": "859eff53",
   "metadata": {},
   "source": [
    "*******************"
   ]
  },
  {
   "cell_type": "markdown",
   "id": "a995b0be",
   "metadata": {},
   "source": [
    "*******************\n"
   ]
  },
  {
   "cell_type": "markdown",
   "id": "1a536ae9",
   "metadata": {},
   "source": [
    "# Question 7\n",
    "File bloodtype1.txt records blood-types of patients (A, B, AB, O or OO) at a clinic.Write a function bldcount() that reads the file with name name and reports (i.e.,prints) how many patients there are in each bloodtype"
   ]
  },
  {
   "cell_type": "code",
   "execution_count": 196,
   "id": "ecf1dbc6",
   "metadata": {},
   "outputs": [],
   "source": [
    "def bldcount(file_name):\n",
    "    \n",
    "    infile = open(file_name, 'r')       #opens file called bloodtype1.txt\n",
    "    content = infile.read()                #add content into a variable\n",
    "    bldCntDatatoStr = content[0:-2]     # clean the available content removing /n\n",
    "    bldCntList = bldCntDatatoStr.split(\" \") #convert the content into iterable to count the recurring values\n",
    "    \n",
    "    ab_counter = 0    #initializing the counter for counting the repeated occurance\n",
    "    a_counter = 0\n",
    "    b_counter = 0\n",
    "    o_counter = 0\n",
    "    oo_counter = 0\n",
    "    \n",
    "    for bloodtype in bldCntList: # loop to traverse the list called bldCntlist\n",
    "        if bloodtype == 'AB':   #Conditional statement to check the blood type\n",
    "            ab_counter +=1\n",
    "            \n",
    "        if bloodtype == 'A':\n",
    "            a_counter +=1\n",
    "            \n",
    "\n",
    "        if bloodtype == 'B':\n",
    "            b_counter +=1\n",
    "        \n",
    "        if bloodtype == 'O':\n",
    "            o_counter +=1\n",
    "            \n",
    "        if bloodtype == 'OO':\n",
    "            oo_counter +=1\n",
    "    \n",
    "    print(\"There are {} patients of blood type A.\".format(a_counter))  \n",
    "    print(\"There are {} patients of blood type B.\".format(b_counter))\n",
    "    print(\"There are {} patients of blood type AB.\".format(ab_counter))\n",
    "    print(\"There are {} patients of blood type O.\".format(o_counter))\n",
    "    print(\"There are {} patients of blood type OO.\".format(oo_counter))\n",
    "    \n",
    "    infile.close()\n",
    "        \n",
    "    "
   ]
  },
  {
   "cell_type": "code",
   "execution_count": 197,
   "id": "93641452",
   "metadata": {},
   "outputs": [
    {
     "name": "stdout",
     "output_type": "stream",
     "text": [
      "There are 15 patients of blood type A.\n",
      "There are 1 patients of blood type B.\n",
      "There are 13 patients of blood type AB.\n",
      "There are 15 patients of blood type O.\n",
      "There are 0 patients of blood type OO.\n"
     ]
    }
   ],
   "source": [
    "bldcount(\"bloodtype1.txt\")"
   ]
  },
  {
   "cell_type": "markdown",
   "id": "535d180b",
   "metadata": {},
   "source": [
    "# Question 8\n",
    " Write a function curconv() that takes as input:\n",
    " 1. a currency represented using a string (e.g., 'JPY' for the Japanese Yen or'EUR' for the Euro)\n",
    " 2. an amountand then converts and returns the amount in US dollars."
   ]
  },
  {
   "cell_type": "code",
   "execution_count": 117,
   "id": "7b04086b",
   "metadata": {},
   "outputs": [],
   "source": [
    "\n",
    "\n",
    "def curconv(currency, amount):\n",
    "    infile = open(\"currencies.txt\", 'r')   #opens exchange rate file\n",
    "    content =  infile.read()         #store the content in variable\n",
    "\n",
    "    infile.close() \n",
    "    \n",
    "    content=content.split(\"\\n\")    #creates list as iterable\n",
    "    for i in content:              #traverse around the content of list\n",
    "        if currency in i:          #condition to match the passed argument currency\n",
    "            container = i.split(\"\\t\")  #separated the \\t contained in the string\n",
    "            print(container[0])         \n",
    "            print(float(container[1]))\n",
    "            print(container[2])\n",
    "            converted_amount = float(container[1])*amount #converted the amount string into float value to perform arthemetic operation\n",
    "    return converted_amount"
   ]
  },
  {
   "cell_type": "code",
   "execution_count": 118,
   "id": "246407bd",
   "metadata": {},
   "outputs": [
    {
     "name": "stdout",
     "output_type": "stream",
     "text": [
      "EUR\n",
      "1.2296544\n",
      "Euro\n"
     ]
    },
    {
     "data": {
      "text/plain": [
       "122.96544"
      ]
     },
     "execution_count": 118,
     "metadata": {},
     "output_type": "execute_result"
    }
   ],
   "source": [
    "curconv(\"EUR\",100)"
   ]
  },
  {
   "cell_type": "code",
   "execution_count": 119,
   "id": "3765a0fd",
   "metadata": {},
   "outputs": [
    {
     "name": "stdout",
     "output_type": "stream",
     "text": [
      "JPY\n",
      "0.01241401\n",
      "Japanese Yen\n"
     ]
    },
    {
     "data": {
      "text/plain": [
       "1.241401"
      ]
     },
     "execution_count": 119,
     "metadata": {},
     "output_type": "execute_result"
    }
   ],
   "source": [
    "curconv(\"JPY\",100)"
   ]
  },
  {
   "cell_type": "markdown",
   "id": "c7a8bc45",
   "metadata": {},
   "source": [
    "# Question 9\n",
    "Each of the following will cause an exception (an error). Identify what type ofexception each will cause."
   ]
  },
  {
   "cell_type": "markdown",
   "id": "0330ab50",
   "metadata": {},
   "source": [
    "### Trying to add incompatible variables, as inadding 6 + ‘a\n"
   ]
  },
  {
   "cell_type": "code",
   "execution_count": 1,
   "id": "95aafd45",
   "metadata": {},
   "outputs": [
    {
     "ename": "TypeError",
     "evalue": "unsupported operand type(s) for +: 'int' and 'str'",
     "output_type": "error",
     "traceback": [
      "\u001b[1;31m---------------------------------------------------------------------------\u001b[0m",
      "\u001b[1;31mTypeError\u001b[0m                                 Traceback (most recent call last)",
      "Cell \u001b[1;32mIn[1], line 1\u001b[0m\n\u001b[1;32m----> 1\u001b[0m \u001b[38;5;241m6\u001b[39m \u001b[38;5;241m+\u001b[39m \u001b[38;5;124m'\u001b[39m\u001b[38;5;124ma\u001b[39m\u001b[38;5;124m'\u001b[39m\n",
      "\u001b[1;31mTypeError\u001b[0m: unsupported operand type(s) for +: 'int' and 'str'"
     ]
    }
   ],
   "source": [
    "6 + 'a'"
   ]
  },
  {
   "cell_type": "markdown",
   "id": "1a7f9986",
   "metadata": {},
   "source": [
    "###### this will generate type error because we cannot add integer to a string"
   ]
  },
  {
   "cell_type": "markdown",
   "id": "1a98580e",
   "metadata": {},
   "source": [
    "#### Referring to the 12th item of a list that has only 10items\n"
   ]
  },
  {
   "cell_type": "code",
   "execution_count": 2,
   "id": "972045a4",
   "metadata": {},
   "outputs": [
    {
     "ename": "IndexError",
     "evalue": "list index out of range",
     "output_type": "error",
     "traceback": [
      "\u001b[1;31m---------------------------------------------------------------------------\u001b[0m",
      "\u001b[1;31mIndexError\u001b[0m                                Traceback (most recent call last)",
      "Cell \u001b[1;32mIn[2], line 2\u001b[0m\n\u001b[0;32m      1\u001b[0m a \u001b[38;5;241m=\u001b[39m \u001b[38;5;28mlist\u001b[39m(\u001b[38;5;28mrange\u001b[39m(\u001b[38;5;241m0\u001b[39m,\u001b[38;5;241m11\u001b[39m))\n\u001b[1;32m----> 2\u001b[0m a[\u001b[38;5;241m12\u001b[39m]\n",
      "\u001b[1;31mIndexError\u001b[0m: list index out of range"
     ]
    }
   ],
   "source": [
    "a = list(range(0,11))\n",
    "a[12]"
   ]
  },
  {
   "cell_type": "markdown",
   "id": "516a25c9",
   "metadata": {},
   "source": [
    "#### this will generate index error as the list doesnt have12 th index element"
   ]
  },
  {
   "cell_type": "markdown",
   "id": "bda254a4",
   "metadata": {},
   "source": [
    "#### Using a value that is out of range for a function’sinput, such as calling math.sqrt(-1.0)\n"
   ]
  },
  {
   "cell_type": "code",
   "execution_count": 4,
   "id": "5592a3d1",
   "metadata": {},
   "outputs": [
    {
     "ename": "ValueError",
     "evalue": "math domain error",
     "output_type": "error",
     "traceback": [
      "\u001b[1;31m---------------------------------------------------------------------------\u001b[0m",
      "\u001b[1;31mValueError\u001b[0m                                Traceback (most recent call last)",
      "Cell \u001b[1;32mIn[4], line 2\u001b[0m\n\u001b[0;32m      1\u001b[0m \u001b[38;5;28;01mimport\u001b[39;00m \u001b[38;5;21;01mmath\u001b[39;00m\n\u001b[1;32m----> 2\u001b[0m math\u001b[38;5;241m.\u001b[39msqrt(\u001b[38;5;241m-\u001b[39m\u001b[38;5;241m1.0\u001b[39m)\n",
      "\u001b[1;31mValueError\u001b[0m: math domain error"
     ]
    }
   ],
   "source": [
    "import math\n",
    "math.sqrt(-1.0)"
   ]
  },
  {
   "cell_type": "markdown",
   "id": "b3af3b0f",
   "metadata": {},
   "source": [
    "#### this will generate value error because it doesnt accept -ve values"
   ]
  },
  {
   "cell_type": "markdown",
   "id": "25ae6d70",
   "metadata": {},
   "source": [
    "#### Using an undeclared variable, such as print(x)when x has not been defined\n"
   ]
  },
  {
   "cell_type": "code",
   "execution_count": 5,
   "id": "f54ea3af",
   "metadata": {},
   "outputs": [
    {
     "ename": "NameError",
     "evalue": "name 'x' is not defined",
     "output_type": "error",
     "traceback": [
      "\u001b[1;31m---------------------------------------------------------------------------\u001b[0m",
      "\u001b[1;31mNameError\u001b[0m                                 Traceback (most recent call last)",
      "Cell \u001b[1;32mIn[5], line 1\u001b[0m\n\u001b[1;32m----> 1\u001b[0m \u001b[38;5;28mprint\u001b[39m(x)\n",
      "\u001b[1;31mNameError\u001b[0m: name 'x' is not defined"
     ]
    }
   ],
   "source": [
    "print(x)"
   ]
  },
  {
   "cell_type": "markdown",
   "id": "d45036ec",
   "metadata": {},
   "source": [
    "#### it generates name error as x is not defined befo using it"
   ]
  },
  {
   "cell_type": "markdown",
   "id": "ac3f085c",
   "metadata": {},
   "source": [
    "#### Trying to open a file that does not exist, such as mistyping the file name or looking in the wrong directory"
   ]
  },
  {
   "cell_type": "code",
   "execution_count": 6,
   "id": "7de767de",
   "metadata": {},
   "outputs": [
    {
     "ename": "FileNotFoundError",
     "evalue": "[Errno 2] No such file or directory: 'text.txt'",
     "output_type": "error",
     "traceback": [
      "\u001b[1;31m---------------------------------------------------------------------------\u001b[0m",
      "\u001b[1;31mFileNotFoundError\u001b[0m                         Traceback (most recent call last)",
      "Cell \u001b[1;32mIn[6], line 1\u001b[0m\n\u001b[1;32m----> 1\u001b[0m content \u001b[38;5;241m=\u001b[39m \u001b[38;5;28mopen\u001b[39m(\u001b[38;5;124m\"\u001b[39m\u001b[38;5;124mtext.txt\u001b[39m\u001b[38;5;124m\"\u001b[39m)\n",
      "File \u001b[1;32mG:\\Bdat\\DataProgramming\\Lib\\site-packages\\IPython\\core\\interactiveshell.py:284\u001b[0m, in \u001b[0;36m_modified_open\u001b[1;34m(file, *args, **kwargs)\u001b[0m\n\u001b[0;32m    277\u001b[0m \u001b[38;5;28;01mif\u001b[39;00m file \u001b[38;5;129;01min\u001b[39;00m {\u001b[38;5;241m0\u001b[39m, \u001b[38;5;241m1\u001b[39m, \u001b[38;5;241m2\u001b[39m}:\n\u001b[0;32m    278\u001b[0m     \u001b[38;5;28;01mraise\u001b[39;00m \u001b[38;5;167;01mValueError\u001b[39;00m(\n\u001b[0;32m    279\u001b[0m         \u001b[38;5;124mf\u001b[39m\u001b[38;5;124m\"\u001b[39m\u001b[38;5;124mIPython won\u001b[39m\u001b[38;5;124m'\u001b[39m\u001b[38;5;124mt let you open fd=\u001b[39m\u001b[38;5;132;01m{\u001b[39;00mfile\u001b[38;5;132;01m}\u001b[39;00m\u001b[38;5;124m by default \u001b[39m\u001b[38;5;124m\"\u001b[39m\n\u001b[0;32m    280\u001b[0m         \u001b[38;5;124m\"\u001b[39m\u001b[38;5;124mas it is likely to crash IPython. If you know what you are doing, \u001b[39m\u001b[38;5;124m\"\u001b[39m\n\u001b[0;32m    281\u001b[0m         \u001b[38;5;124m\"\u001b[39m\u001b[38;5;124myou can use builtins\u001b[39m\u001b[38;5;124m'\u001b[39m\u001b[38;5;124m open.\u001b[39m\u001b[38;5;124m\"\u001b[39m\n\u001b[0;32m    282\u001b[0m     )\n\u001b[1;32m--> 284\u001b[0m \u001b[38;5;28;01mreturn\u001b[39;00m io_open(file, \u001b[38;5;241m*\u001b[39margs, \u001b[38;5;241m*\u001b[39m\u001b[38;5;241m*\u001b[39mkwargs)\n",
      "\u001b[1;31mFileNotFoundError\u001b[0m: [Errno 2] No such file or directory: 'text.txt'"
     ]
    }
   ],
   "source": [
    "content = open(\"text.txt\")"
   ]
  },
  {
   "cell_type": "markdown",
   "id": "31fd821e",
   "metadata": {},
   "source": [
    "#### file not found error is generated as text.txt doesnt exist"
   ]
  },
  {
   "cell_type": "markdown",
   "id": "5e16a7d4",
   "metadata": {},
   "source": [
    "# Question 10\n",
    "Encryption is the process of hiding the meaning of a text by substituting letters in themessage with other letters, according to some system. If the process is successful, noone but the intended recipient can understand the encrypted message. Cryptanalysisrefers to attempts to undo the encryption, even if some details of the encryption areunknown (for example, if an encrypted message has been intercepted). The first stepof cryptanalysis is often to build up a table of letter frequencies in the encrypted text.Assume that the string letters is already defined as'abcdefghijklmnopqrstuvwxyz'. Write a function called frequencies()that takes a string as its only parameter, and returns a list of integers, showing thenumber of times each character appears in the text. Your function may ignore anycharacters that are not in letters"
   ]
  },
  {
   "cell_type": "code",
   "execution_count": 11,
   "id": "19cbafb9",
   "metadata": {},
   "outputs": [],
   "source": [
    "def frequencies(text):\n",
    "    letters = 'abcdefghijklmnopqrstuvwxyz'#creates a string of letter to check\n",
    "\n",
    "    frequency_list = []  #empty list to store the frequency of the letters\n",
    "\n",
    "    text = text.lower()  #Converts all the string to lower case\n",
    "\n",
    "    \n",
    "    for char in letters:   #loop to check for the letter contained in string letters\n",
    "        count = 0\n",
    "\n",
    "        for text_char in text:  #loop to traverse over input string\n",
    "            if text_char == char:    #check for the match on the input string and the letters\n",
    "                count += 1  # add one if match is found\n",
    "\n",
    "        frequency_list.append(count)  #update the value in the list\n",
    "\n",
    "    return frequency_list\n",
    "\n",
    "\n",
    "\n"
   ]
  },
  {
   "cell_type": "code",
   "execution_count": 12,
   "id": "0269d4c4",
   "metadata": {},
   "outputs": [],
   "source": [
    "result = frequencies('The quick red fox got bored and went home.')"
   ]
  },
  {
   "cell_type": "code",
   "execution_count": 13,
   "id": "ac616f04",
   "metadata": {},
   "outputs": [
    {
     "name": "stdout",
     "output_type": "stream",
     "text": [
      "[1, 1, 1, 3, 5, 1, 1, 2, 1, 0, 1, 0, 1, 2, 4, 0, 1, 2, 0, 3, 1, 0, 1, 1, 0, 0]\n"
     ]
    }
   ],
   "source": [
    "print(result)"
   ]
  },
  {
   "cell_type": "code",
   "execution_count": 14,
   "id": "465f9627",
   "metadata": {},
   "outputs": [],
   "source": [
    "result = frequencies('apple')"
   ]
  },
  {
   "cell_type": "code",
   "execution_count": 15,
   "id": "9a56f442",
   "metadata": {},
   "outputs": [
    {
     "name": "stdout",
     "output_type": "stream",
     "text": [
      "[1, 0, 0, 0, 1, 0, 0, 0, 0, 0, 0, 1, 0, 0, 0, 2, 0, 0, 0, 0, 0, 0, 0, 0, 0, 0]\n"
     ]
    }
   ],
   "source": [
    "print(result)"
   ]
  },
  {
   "cell_type": "code",
   "execution_count": null,
   "id": "45eb496b",
   "metadata": {},
   "outputs": [],
   "source": []
  }
 ],
 "metadata": {
  "kernelspec": {
   "display_name": "Python 3 (ipykernel)",
   "language": "python",
   "name": "python3"
  },
  "language_info": {
   "codemirror_mode": {
    "name": "ipython",
    "version": 3
   },
   "file_extension": ".py",
   "mimetype": "text/x-python",
   "name": "python",
   "nbconvert_exporter": "python",
   "pygments_lexer": "ipython3",
   "version": "3.11.4"
  }
 },
 "nbformat": 4,
 "nbformat_minor": 5
}
